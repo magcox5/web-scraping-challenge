{
 "cells": [
  {
   "cell_type": "code",
   "execution_count": 1,
   "metadata": {},
   "outputs": [],
   "source": [
    "#!/usr/bin/env python\n",
    "# encoding: utf-8\n",
    "\n",
    "import tweepy #https://github.com/tweepy/tweepy\n",
    "import config\n",
    "import json\n",
    "import pprint"
   ]
  },
  {
   "cell_type": "code",
   "execution_count": 2,
   "metadata": {},
   "outputs": [],
   "source": [
    "# Authentication - Twitter API Credentials\n",
    "consumer_key = config.twitter_consumer_key\n",
    "consumer_secret = config.twitter_consumer_secret\n",
    "access_key = config.twitter_access_token\n",
    "access_secret = config.twitter_access_secret"
   ]
  },
  {
   "cell_type": "code",
   "execution_count": 3,
   "metadata": {},
   "outputs": [],
   "source": [
    "# name of Mars weather Twitter Account\n",
    "screen_name = \"marswxreport\""
   ]
  },
  {
   "cell_type": "code",
   "execution_count": 4,
   "metadata": {},
   "outputs": [],
   "source": [
    "    #authorize twitter, initialize tweepy\n",
    "    auth = tweepy.OAuthHandler(consumer_key, consumer_secret)\n",
    "    auth.set_access_token(access_key, access_secret)\n",
    "    api = tweepy.API(auth)"
   ]
  },
  {
   "cell_type": "code",
   "execution_count": 9,
   "metadata": {},
   "outputs": [
    {
     "name": "stdout",
     "output_type": "stream",
     "text": [
      "[   Status(_api=<tweepy.api.API object at 0x0000018813FB6648>, _json={'created_at': 'Sat Sep 19 12:51:11 +0000 2020', 'id': 1307301209955500032, 'id_str': '1307301209955500032', 'text': 'InSight sol 644 (2020-09-17) low -96.0ºC (-140.9ºF) high -14.3ºC (6.2ºF)\\nwinds from the WNW at 6.2 m/s (13.8 mph) g… https://t.co/8sXGg3xPYV', 'truncated': True, 'entities': {'hashtags': [], 'symbols': [], 'user_mentions': [], 'urls': [{'url': 'https://t.co/8sXGg3xPYV', 'expanded_url': 'https://twitter.com/i/web/status/1307301209955500032', 'display_url': 'twitter.com/i/web/status/1…', 'indices': [117, 140]}]}, 'source': '<a href=\"http://utprosim.com\" rel=\"nofollow\">Daily Weather Report</a>', 'in_reply_to_status_id': None, 'in_reply_to_status_id_str': None, 'in_reply_to_user_id': None, 'in_reply_to_user_id_str': None, 'in_reply_to_screen_name': None, 'user': {'id': 786939553, 'id_str': '786939553', 'name': 'Mars Weather', 'screen_name': 'MarsWxReport', 'location': 'Gale Crater, Mars', 'description': 'Updates as avail from the REMS weather instrument aboard @MarsCuriosity.  Data credit: Centro deAstrobiologia, FMI, JPL/NASA, Not an official acct.', 'url': 'https://t.co/0PMWfPs8cw', 'entities': {'url': {'urls': [{'url': 'https://t.co/0PMWfPs8cw', 'expanded_url': 'https://mars.nasa.gov/news/8415/insight-is-the-newest-mars-weather-service/', 'display_url': 'mars.nasa.gov/news/8415/insi…', 'indices': [0, 23]}]}, 'description': {'urls': []}}, 'protected': False, 'followers_count': 57776, 'friends_count': 53, 'listed_count': 349, 'created_at': 'Tue Aug 28 12:48:50 +0000 2012', 'favourites_count': 356, 'utc_offset': None, 'time_zone': None, 'geo_enabled': True, 'verified': False, 'statuses_count': 2320, 'lang': None, 'contributors_enabled': False, 'is_translator': False, 'is_translation_enabled': False, 'profile_background_color': 'C0DEED', 'profile_background_image_url': 'http://abs.twimg.com/images/themes/theme1/bg.png', 'profile_background_image_url_https': 'https://abs.twimg.com/images/themes/theme1/bg.png', 'profile_background_tile': False, 'profile_image_url': 'http://pbs.twimg.com/profile_images/2552209293/220px-Mars_atmosphere_normal.jpg', 'profile_image_url_https': 'https://pbs.twimg.com/profile_images/2552209293/220px-Mars_atmosphere_normal.jpg', 'profile_banner_url': 'https://pbs.twimg.com/profile_banners/786939553/1550640093', 'profile_link_color': '0084B4', 'profile_sidebar_border_color': 'FFFFFF', 'profile_sidebar_fill_color': 'DDEEF6', 'profile_text_color': '333333', 'profile_use_background_image': True, 'has_extended_profile': False, 'default_profile': False, 'default_profile_image': False, 'following': False, 'follow_request_sent': False, 'notifications': False, 'translator_type': 'none'}, 'geo': None, 'coordinates': None, 'place': None, 'contributors': None, 'is_quote_status': False, 'retweet_count': 1, 'favorite_count': 19, 'favorited': False, 'retweeted': False, 'possibly_sensitive': False, 'lang': 'en'}, created_at=datetime.datetime(2020, 9, 19, 12, 51, 11), id=1307301209955500032, id_str='1307301209955500032', text='InSight sol 644 (2020-09-17) low -96.0ºC (-140.9ºF) high -14.3ºC (6.2ºF)\\nwinds from the WNW at 6.2 m/s (13.8 mph) g… https://t.co/8sXGg3xPYV', truncated=True, entities={'hashtags': [], 'symbols': [], 'user_mentions': [], 'urls': [{'url': 'https://t.co/8sXGg3xPYV', 'expanded_url': 'https://twitter.com/i/web/status/1307301209955500032', 'display_url': 'twitter.com/i/web/status/1…', 'indices': [117, 140]}]}, source='Daily Weather Report', source_url='http://utprosim.com', in_reply_to_status_id=None, in_reply_to_status_id_str=None, in_reply_to_user_id=None, in_reply_to_user_id_str=None, in_reply_to_screen_name=None, author=User(_api=<tweepy.api.API object at 0x0000018813FB6648>, _json={'id': 786939553, 'id_str': '786939553', 'name': 'Mars Weather', 'screen_name': 'MarsWxReport', 'location': 'Gale Crater, Mars', 'description': 'Updates as avail from the REMS weather instrument aboard @MarsCuriosity.  Data credit: Centro deAstrobiologia, FMI, JPL/NASA, Not an official acct.', 'url': 'https://t.co/0PMWfPs8cw', 'entities': {'url': {'urls': [{'url': 'https://t.co/0PMWfPs8cw', 'expanded_url': 'https://mars.nasa.gov/news/8415/insight-is-the-newest-mars-weather-service/', 'display_url': 'mars.nasa.gov/news/8415/insi…', 'indices': [0, 23]}]}, 'description': {'urls': []}}, 'protected': False, 'followers_count': 57776, 'friends_count': 53, 'listed_count': 349, 'created_at': 'Tue Aug 28 12:48:50 +0000 2012', 'favourites_count': 356, 'utc_offset': None, 'time_zone': None, 'geo_enabled': True, 'verified': False, 'statuses_count': 2320, 'lang': None, 'contributors_enabled': False, 'is_translator': False, 'is_translation_enabled': False, 'profile_background_color': 'C0DEED', 'profile_background_image_url': 'http://abs.twimg.com/images/themes/theme1/bg.png', 'profile_background_image_url_https': 'https://abs.twimg.com/images/themes/theme1/bg.png', 'profile_background_tile': False, 'profile_image_url': 'http://pbs.twimg.com/profile_images/2552209293/220px-Mars_atmosphere_normal.jpg', 'profile_image_url_https': 'https://pbs.twimg.com/profile_images/2552209293/220px-Mars_atmosphere_normal.jpg', 'profile_banner_url': 'https://pbs.twimg.com/profile_banners/786939553/1550640093', 'profile_link_color': '0084B4', 'profile_sidebar_border_color': 'FFFFFF', 'profile_sidebar_fill_color': 'DDEEF6', 'profile_text_color': '333333', 'profile_use_background_image': True, 'has_extended_profile': False, 'default_profile': False, 'default_profile_image': False, 'following': False, 'follow_request_sent': False, 'notifications': False, 'translator_type': 'none'}, id=786939553, id_str='786939553', name='Mars Weather', screen_name='MarsWxReport', location='Gale Crater, Mars', description='Updates as avail from the REMS weather instrument aboard @MarsCuriosity.  Data credit: Centro deAstrobiologia, FMI, JPL/NASA, Not an official acct.', url='https://t.co/0PMWfPs8cw', entities={'url': {'urls': [{'url': 'https://t.co/0PMWfPs8cw', 'expanded_url': 'https://mars.nasa.gov/news/8415/insight-is-the-newest-mars-weather-service/', 'display_url': 'mars.nasa.gov/news/8415/insi…', 'indices': [0, 23]}]}, 'description': {'urls': []}}, protected=False, followers_count=57776, friends_count=53, listed_count=349, created_at=datetime.datetime(2012, 8, 28, 12, 48, 50), favourites_count=356, utc_offset=None, time_zone=None, geo_enabled=True, verified=False, statuses_count=2320, lang=None, contributors_enabled=False, is_translator=False, is_translation_enabled=False, profile_background_color='C0DEED', profile_background_image_url='http://abs.twimg.com/images/themes/theme1/bg.png', profile_background_image_url_https='https://abs.twimg.com/images/themes/theme1/bg.png', profile_background_tile=False, profile_image_url='http://pbs.twimg.com/profile_images/2552209293/220px-Mars_atmosphere_normal.jpg', profile_image_url_https='https://pbs.twimg.com/profile_images/2552209293/220px-Mars_atmosphere_normal.jpg', profile_banner_url='https://pbs.twimg.com/profile_banners/786939553/1550640093', profile_link_color='0084B4', profile_sidebar_border_color='FFFFFF', profile_sidebar_fill_color='DDEEF6', profile_text_color='333333', profile_use_background_image=True, has_extended_profile=False, default_profile=False, default_profile_image=False, following=False, follow_request_sent=False, notifications=False, translator_type='none'), user=User(_api=<tweepy.api.API object at 0x0000018813FB6648>, _json={'id': 786939553, 'id_str': '786939553', 'name': 'Mars Weather', 'screen_name': 'MarsWxReport', 'location': 'Gale Crater, Mars', 'description': 'Updates as avail from the REMS weather instrument aboard @MarsCuriosity.  Data credit: Centro deAstrobiologia, FMI, JPL/NASA, Not an official acct.', 'url': 'https://t.co/0PMWfPs8cw', 'entities': {'url': {'urls': [{'url': 'https://t.co/0PMWfPs8cw', 'expanded_url': 'https://mars.nasa.gov/news/8415/insight-is-the-newest-mars-weather-service/', 'display_url': 'mars.nasa.gov/news/8415/insi…', 'indices': [0, 23]}]}, 'description': {'urls': []}}, 'protected': False, 'followers_count': 57776, 'friends_count': 53, 'listed_count': 349, 'created_at': 'Tue Aug 28 12:48:50 +0000 2012', 'favourites_count': 356, 'utc_offset': None, 'time_zone': None, 'geo_enabled': True, 'verified': False, 'statuses_count': 2320, 'lang': None, 'contributors_enabled': False, 'is_translator': False, 'is_translation_enabled': False, 'profile_background_color': 'C0DEED', 'profile_background_image_url': 'http://abs.twimg.com/images/themes/theme1/bg.png', 'profile_background_image_url_https': 'https://abs.twimg.com/images/themes/theme1/bg.png', 'profile_background_tile': False, 'profile_image_url': 'http://pbs.twimg.com/profile_images/2552209293/220px-Mars_atmosphere_normal.jpg', 'profile_image_url_https': 'https://pbs.twimg.com/profile_images/2552209293/220px-Mars_atmosphere_normal.jpg', 'profile_banner_url': 'https://pbs.twimg.com/profile_banners/786939553/1550640093', 'profile_link_color': '0084B4', 'profile_sidebar_border_color': 'FFFFFF', 'profile_sidebar_fill_color': 'DDEEF6', 'profile_text_color': '333333', 'profile_use_background_image': True, 'has_extended_profile': False, 'default_profile': False, 'default_profile_image': False, 'following': False, 'follow_request_sent': False, 'notifications': False, 'translator_type': 'none'}, id=786939553, id_str='786939553', name='Mars Weather', screen_name='MarsWxReport', location='Gale Crater, Mars', description='Updates as avail from the REMS weather instrument aboard @MarsCuriosity.  Data credit: Centro deAstrobiologia, FMI, JPL/NASA, Not an official acct.', url='https://t.co/0PMWfPs8cw', entities={'url': {'urls': [{'url': 'https://t.co/0PMWfPs8cw', 'expanded_url': 'https://mars.nasa.gov/news/8415/insight-is-the-newest-mars-weather-service/', 'display_url': 'mars.nasa.gov/news/8415/insi…', 'indices': [0, 23]}]}, 'description': {'urls': []}}, protected=False, followers_count=57776, friends_count=53, listed_count=349, created_at=datetime.datetime(2012, 8, 28, 12, 48, 50), favourites_count=356, utc_offset=None, time_zone=None, geo_enabled=True, verified=False, statuses_count=2320, lang=None, contributors_enabled=False, is_translator=False, is_translation_enabled=False, profile_background_color='C0DEED', profile_background_image_url='http://abs.twimg.com/images/themes/theme1/bg.png', profile_background_image_url_https='https://abs.twimg.com/images/themes/theme1/bg.png', profile_background_tile=False, profile_image_url='http://pbs.twimg.com/profile_images/2552209293/220px-Mars_atmosphere_normal.jpg', profile_image_url_https='https://pbs.twimg.com/profile_images/2552209293/220px-Mars_atmosphere_normal.jpg', profile_banner_url='https://pbs.twimg.com/profile_banners/786939553/1550640093', profile_link_color='0084B4', profile_sidebar_border_color='FFFFFF', profile_sidebar_fill_color='DDEEF6', profile_text_color='333333', profile_use_background_image=True, has_extended_profile=False, default_profile=False, default_profile_image=False, following=False, follow_request_sent=False, notifications=False, translator_type='none'), geo=None, coordinates=None, place=None, contributors=None, is_quote_status=False, retweet_count=1, favorite_count=19, favorited=False, retweeted=False, possibly_sensitive=False, lang='en')]\n"
     ]
    },
    {
     "ename": "AttributeError",
     "evalue": "'ResultSet' object has no attribute 'Status'",
     "output_type": "error",
     "traceback": [
      "\u001b[1;31m---------------------------------------------------------------------------\u001b[0m",
      "\u001b[1;31mAttributeError\u001b[0m                            Traceback (most recent call last)",
      "\u001b[1;32m<ipython-input-9-e22dc8613547>\u001b[0m in \u001b[0;36m<module>\u001b[1;34m\u001b[0m\n\u001b[0;32m      4\u001b[0m \u001b[0mpp\u001b[0m \u001b[1;33m=\u001b[0m \u001b[0mpprint\u001b[0m\u001b[1;33m.\u001b[0m\u001b[0mPrettyPrinter\u001b[0m\u001b[1;33m(\u001b[0m\u001b[0mindent\u001b[0m\u001b[1;33m=\u001b[0m\u001b[1;36m4\u001b[0m\u001b[1;33m)\u001b[0m\u001b[1;33m\u001b[0m\u001b[1;33m\u001b[0m\u001b[0m\n\u001b[0;32m      5\u001b[0m \u001b[0mpp\u001b[0m\u001b[1;33m.\u001b[0m\u001b[0mpprint\u001b[0m\u001b[1;33m(\u001b[0m\u001b[0mnew_tweet\u001b[0m\u001b[1;33m)\u001b[0m\u001b[1;33m\u001b[0m\u001b[1;33m\u001b[0m\u001b[0m\n\u001b[1;32m----> 6\u001b[1;33m \u001b[0mprint\u001b[0m\u001b[1;33m(\u001b[0m\u001b[0mnew_tweet\u001b[0m\u001b[1;33m.\u001b[0m\u001b[0mStatus\u001b[0m\u001b[1;33m.\u001b[0m\u001b[0mtext\u001b[0m\u001b[1;33m)\u001b[0m\u001b[1;33m\u001b[0m\u001b[1;33m\u001b[0m\u001b[0m\n\u001b[0m",
      "\u001b[1;31mAttributeError\u001b[0m: 'ResultSet' object has no attribute 'Status'"
     ]
    }
   ],
   "source": [
    "#make initial request for most recent tweet\n",
    "new_tweet = api.user_timeline(screen_name = screen_name,count=1)\n",
    "\n",
    "pp = pprint.PrettyPrinter(indent=4)\n",
    "pp.pprint(new_tweet)\n",
    "print(new_tweet.Status.text)\n"
   ]
  },
  {
   "cell_type": "code",
   "execution_count": 11,
   "metadata": {},
   "outputs": [
    {
     "ename": "TypeError",
     "evalue": "list indices must be integers or slices, not str",
     "output_type": "error",
     "traceback": [
      "\u001b[1;31m---------------------------------------------------------------------------\u001b[0m",
      "\u001b[1;31mTypeError\u001b[0m                                 Traceback (most recent call last)",
      "\u001b[1;32m<ipython-input-11-b26dcfcb9b83>\u001b[0m in \u001b[0;36m<module>\u001b[1;34m\u001b[0m\n\u001b[1;32m----> 1\u001b[1;33m \u001b[0mprint\u001b[0m\u001b[1;33m(\u001b[0m\u001b[0mnew_tweet\u001b[0m\u001b[1;33m[\u001b[0m\u001b[1;34m'Status'\u001b[0m\u001b[1;33m]\u001b[0m\u001b[1;33m(\u001b[0m\u001b[1;34m'text'\u001b[0m\u001b[1;33m)\u001b[0m\u001b[1;33m)\u001b[0m\u001b[1;33m\u001b[0m\u001b[1;33m\u001b[0m\u001b[0m\n\u001b[0m",
      "\u001b[1;31mTypeError\u001b[0m: list indices must be integers or slices, not str"
     ]
    }
   ],
   "source": []
  },
  {
   "cell_type": "code",
   "execution_count": null,
   "metadata": {},
   "outputs": [],
   "source": []
  }
 ],
 "metadata": {
  "kernelspec": {
   "display_name": "Python 3",
   "language": "python",
   "name": "python3"
  },
  "language_info": {
   "codemirror_mode": {
    "name": "ipython",
    "version": 3
   },
   "file_extension": ".py",
   "mimetype": "text/x-python",
   "name": "python",
   "nbconvert_exporter": "python",
   "pygments_lexer": "ipython3",
   "version": "3.7.5"
  }
 },
 "nbformat": 4,
 "nbformat_minor": 2
}
