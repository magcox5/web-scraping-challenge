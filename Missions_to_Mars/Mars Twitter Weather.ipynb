{
 "cells": [
  {
   "cell_type": "code",
   "execution_count": 1,
   "metadata": {},
   "outputs": [],
   "source": [
    "#!/usr/bin/env python\n",
    "# encoding: utf-8\n",
    "\n",
    "import tweepy #https://github.com/tweepy/tweepy\n",
    "import config"
   ]
  },
  {
   "cell_type": "code",
   "execution_count": 2,
   "metadata": {},
   "outputs": [],
   "source": [
    "# Authentication - Twitter API Credentials\n",
    "consumer_key = config.twitter_consumer_key\n",
    "consumer_secret = config.twitter_consumer_secret\n",
    "access_key = config.twitter_access_token\n",
    "access_secret = config.twitter_access_secret"
   ]
  },
  {
   "cell_type": "code",
   "execution_count": 3,
   "metadata": {},
   "outputs": [],
   "source": [
    "# name of Mars weather Twitter Account\n",
    "screen_name = \"marswxreport\""
   ]
  },
  {
   "cell_type": "code",
   "execution_count": 4,
   "metadata": {},
   "outputs": [],
   "source": [
    "    #authorize twitter, initialize tweepy\n",
    "    auth = tweepy.OAuthHandler(consumer_key, consumer_secret)\n",
    "    auth.set_access_token(access_key, access_secret)\n",
    "    api = tweepy.API(auth)"
   ]
  },
  {
   "cell_type": "code",
   "execution_count": 22,
   "metadata": {},
   "outputs": [
    {
     "name": "stdout",
     "output_type": "stream",
     "text": [
      "InSight sol 644 (2020-09-17) low -96.0ºC (-140.9ºF) high -14.3ºC (6.2ºF)\n",
      "winds from the WNW at 6.2 m/s (13.8 mph) g… https://t.co/8sXGg3xPYV\n"
     ]
    }
   ],
   "source": [
    "#make initial request for most recent tweet\n",
    "new_tweet = api.user_timeline(screen_name = screen_name,count=1, tweet_mode=\"extended\")\n",
    "\n",
    " #transform the tweepy tweets into a 2D array that will populate the csv \n",
    "#out_tweet = [[tweet.id_str, tweet.created_at, tweet.text.encode(\"utf-8\")] for tweet in new_tweet]\n",
    "out_tweet = [[tweet.text.encode(\"utf-8\")] for tweet in new_tweet]\n",
    "out_tweet_final = out_tweet[0][0].decode(\"utf-8\")  \n",
    "print(out_tweet_final)"
   ]
  },
  {
   "cell_type": "code",
   "execution_count": null,
   "metadata": {},
   "outputs": [],
   "source": []
  }
 ],
 "metadata": {
  "kernelspec": {
   "display_name": "Python 3",
   "language": "python",
   "name": "python3"
  },
  "language_info": {
   "codemirror_mode": {
    "name": "ipython",
    "version": 3
   },
   "file_extension": ".py",
   "mimetype": "text/x-python",
   "name": "python",
   "nbconvert_exporter": "python",
   "pygments_lexer": "ipython3",
   "version": "3.7.5"
  }
 },
 "nbformat": 4,
 "nbformat_minor": 2
}
